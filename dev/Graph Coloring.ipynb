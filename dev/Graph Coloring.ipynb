{
 "cells": [
  {
   "cell_type": "code",
   "execution_count": 1,
   "id": "70a3ab49-1169-455f-a9b0-2c5767b930ca",
   "metadata": {},
   "outputs": [],
   "source": [
    "import networkx as nx\n",
    "import pandas as pd\n",
    "import numpy as np\n",
    "import copy"
   ]
  },
  {
   "cell_type": "code",
   "execution_count": 2,
   "id": "5f9eaaed-2b6e-45e2-b5a0-d93cac5546dc",
   "metadata": {},
   "outputs": [],
   "source": [
    "link_df = pd.read_csv('astrohud/assets/data/constellation_links.csv')\n",
    "nodes = set(list(link_df.Item1.unique()) + list(link_df.Item2.unique()))"
   ]
  },
  {
   "cell_type": "code",
   "execution_count": 3,
   "id": "ec1e7c3f-a094-4fac-88d3-e2209e6713dc",
   "metadata": {},
   "outputs": [],
   "source": [
    "g = nx.Graph()\n",
    "g.add_nodes_from(nodes)\n",
    "for _, row in link_df.iterrows():\n",
    "    g.add_edge(row.Item1, row.Item2)"
   ]
  },
  {
   "cell_type": "code",
   "execution_count": 49,
   "id": "a303df6e-b3d5-4dbf-af84-7c09b06c522a",
   "metadata": {},
   "outputs": [],
   "source": [
    "#g = nx.minors.contracted_nodes(g, 'serpens_cauda', 'serpens_caput', self_loops=False)\n",
    "#g = nx.relabel_nodes(g, {'serpens_cauda': 'serpens'})\n",
    "#g.remove_edge('hydra', 'libra')"
   ]
  },
  {
   "cell_type": "code",
   "execution_count": 44,
   "id": "85355bd2-68d7-4d5a-958a-ca48f68466d6",
   "metadata": {},
   "outputs": [],
   "source": [
    "class Coloring:\n",
    "    def __init__(self, max_color=4):\n",
    "        self.colors = tuple()\n",
    "        self.max_color = max_color\n",
    "\n",
    "    def set_order(self, node_order):\n",
    "        self.node_order = node_order\n",
    "        self.node_indices = {node: node_order.index(node) for node in node_order}\n",
    "\n",
    "    def is_done(self):\n",
    "        return len(self.colors) >= len(self.node_order)\n",
    "\n",
    "    def make_child(self, color):\n",
    "        child = copy.copy(self)\n",
    "        child.colors = self.colors + (color,)\n",
    "        return child\n",
    "    \n",
    "    def get_children(self, g):\n",
    "        assert not self.is_done()\n",
    "        next_node = self.node_order[len(self.colors)]\n",
    "        allowed = set(range(self.max_color))\n",
    "        for neighbor in g.adj[next_node]:\n",
    "            i = self.node_indices[neighbor]\n",
    "            if i >= len(self.colors):\n",
    "                continue\n",
    "            allowed.discard(self.colors[i])\n",
    "\n",
    "        return [self.make_child(c) for c in allowed]\n",
    "\n",
    "    def __hash__(self):\n",
    "        return hash(self.colors)\n",
    "\n",
    "    def __eq__(self, other):\n",
    "        return self.colors == other.colors\n",
    "\n",
    "    def __repr__(self):\n",
    "        return repr(self.colors)\n",
    "        "
   ]
  },
  {
   "cell_type": "code",
   "execution_count": 74,
   "id": "9d27759b-c4f0-4663-a5e0-094240257cc6",
   "metadata": {},
   "outputs": [],
   "source": [
    "#node_order = list(nx.coloring.strategy_connected_sequential_bfs(g, []))\n",
    "\n",
    "special = dict(\n",
    "    aries=0,\n",
    "    taurus=1,\n",
    "    gemini=2,\n",
    "    cancer=3,\n",
    "    leo=0,\n",
    "    virgo=1,\n",
    "    libra=2,\n",
    "    scorpio=3,\n",
    "    sagittarius=0,\n",
    "    capricorn=1,\n",
    "    aquarius=2,\n",
    "    pisces=3,\n",
    "    hydra=2,\n",
    "    cetus=2,\n",
    "    serpens_cauda=2,\n",
    "    serpens_caput=3,\n",
    "    aquila=3,\n",
    "    corona_borealis=1,\n",
    ")\n",
    "\n",
    "node_order = list(special.keys())\n",
    "queue = list(node_order)\n",
    "\n",
    "while len(node_order) < len(g.nodes):\n",
    "    node = queue.pop(0)\n",
    "    for child in g.adj[node]:\n",
    "        if child in node_order:\n",
    "            continue\n",
    "        node_order.append(child)\n",
    "        if child in queue:\n",
    "            continue\n",
    "        queue.append(child)"
   ]
  },
  {
   "cell_type": "code",
   "execution_count": 72,
   "id": "4e783397-5d6c-4174-9451-2d038095ccaf",
   "metadata": {},
   "outputs": [
    {
     "data": {
      "text/plain": [
       "(0, 1, 2, 3, 0, 1, 2, 3, 0, 1, 2, 3, 2, 2, 2, 3)"
      ]
     },
     "execution_count": 72,
     "metadata": {},
     "output_type": "execute_result"
    }
   ],
   "source": [
    "base_coloring = Coloring(4)\n",
    "base_coloring.set_order(node_order)\n",
    "\n",
    "for i in range(len(special)):\n",
    "    c = special[node_order[i]]\n",
    "    base_coloring = base_coloring.make_child(c)\n",
    "\n",
    "base_coloring"
   ]
  },
  {
   "cell_type": "code",
   "execution_count": 73,
   "id": "19bdaa2d-22fc-4f37-855b-dc7de0d00446",
   "metadata": {
    "scrolled": true
   },
   "outputs": [
    {
     "name": "stdout",
     "output_type": "stream",
     "text": [
      "696000 222"
     ]
    },
    {
     "ename": "KeyboardInterrupt",
     "evalue": "",
     "output_type": "error",
     "traceback": [
      "\u001b[31m---------------------------------------------------------------------------\u001b[39m",
      "\u001b[31mKeyboardInterrupt\u001b[39m                         Traceback (most recent call last)",
      "\u001b[36mCell\u001b[39m\u001b[36m \u001b[39m\u001b[32mIn[73]\u001b[39m\u001b[32m, line 11\u001b[39m\n\u001b[32m      8\u001b[39m     found.append(item)\n\u001b[32m      9\u001b[39m     \u001b[38;5;28;01mcontinue\u001b[39;00m\n\u001b[32m---> \u001b[39m\u001b[32m11\u001b[39m \u001b[38;5;28;01mfor\u001b[39;00m child \u001b[38;5;129;01min\u001b[39;00m \u001b[43mitem\u001b[49m\u001b[43m.\u001b[49m\u001b[43mget_children\u001b[49m\u001b[43m(\u001b[49m\u001b[43mg\u001b[49m\u001b[43m)\u001b[49m:\n\u001b[32m     12\u001b[39m     \u001b[38;5;28;01mif\u001b[39;00m child \u001b[38;5;129;01min\u001b[39;00m history:\n\u001b[32m     13\u001b[39m         \u001b[38;5;28;01mcontinue\u001b[39;00m\n",
      "\u001b[36mCell\u001b[39m\u001b[36m \u001b[39m\u001b[32mIn[44]\u001b[39m\u001b[32m, line 18\u001b[39m, in \u001b[36mColoring.get_children\u001b[39m\u001b[34m(self, g)\u001b[39m\n\u001b[32m     15\u001b[39m     child.colors = \u001b[38;5;28mself\u001b[39m.colors + (color,)\n\u001b[32m     16\u001b[39m     \u001b[38;5;28;01mreturn\u001b[39;00m child\n\u001b[32m---> \u001b[39m\u001b[32m18\u001b[39m \u001b[38;5;28;01mdef\u001b[39;00m\u001b[38;5;250m \u001b[39m\u001b[34mget_children\u001b[39m(\u001b[38;5;28mself\u001b[39m, g):\n\u001b[32m     19\u001b[39m     \u001b[38;5;28;01massert\u001b[39;00m \u001b[38;5;129;01mnot\u001b[39;00m \u001b[38;5;28mself\u001b[39m.is_done()\n\u001b[32m     20\u001b[39m     next_node = \u001b[38;5;28mself\u001b[39m.node_order[\u001b[38;5;28mlen\u001b[39m(\u001b[38;5;28mself\u001b[39m.colors)]\n",
      "\u001b[31mKeyboardInterrupt\u001b[39m: "
     ]
    }
   ],
   "source": [
    "colorings = [base_coloring]\n",
    "history = set()\n",
    "\n",
    "found = []\n",
    "while len(colorings) > 0:\n",
    "    item = colorings.pop(-1)\n",
    "    if item.is_done():\n",
    "        found.append(item)\n",
    "        continue\n",
    "\n",
    "    for child in item.get_children(g):\n",
    "        if child in history:\n",
    "            continue\n",
    "        history.add(child)\n",
    "        colorings.append(child)\n",
    "\n",
    "    if len(history) % 1000 == 0:\n",
    "        print(len(history), len(found), end='\\r')\n",
    "\n",
    "print(len(history), len(found))"
   ]
  },
  {
   "cell_type": "code",
   "execution_count": null,
   "id": "77589e82-b105-457c-b256-f27feb8be423",
   "metadata": {},
   "outputs": [],
   "source": []
  }
 ],
 "metadata": {
  "kernelspec": {
   "display_name": "Python 3 (ipykernel)",
   "language": "python",
   "name": "python3"
  },
  "language_info": {
   "codemirror_mode": {
    "name": "ipython",
    "version": 3
   },
   "file_extension": ".py",
   "mimetype": "text/x-python",
   "name": "python",
   "nbconvert_exporter": "python",
   "pygments_lexer": "ipython3",
   "version": "3.11.2"
  }
 },
 "nbformat": 4,
 "nbformat_minor": 5
}
